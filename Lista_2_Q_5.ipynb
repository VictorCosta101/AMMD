{
  "nbformat": 4,
  "nbformat_minor": 0,
  "metadata": {
    "colab": {
      "provenance": [],
      "gpuType": "T4"
    },
    "kernelspec": {
      "name": "python3",
      "display_name": "Python 3"
    },
    "language_info": {
      "name": "python"
    },
    "accelerator": "GPU"
  },
  "cells": [
    {
      "cell_type": "markdown",
      "source": [
        "# Questão 5\n"
      ],
      "metadata": {
        "id": "objyBg0LsbUP"
      }
    },
    {
      "cell_type": "code",
      "source": [
        "from keras.models import Model\n",
        "from keras.layers import Input, Conv2D, MaxPooling2D, UpSampling2D\n",
        "from keras.datasets import cifar10\n",
        "import numpy as np\n",
        "from skimage.transform import resize"
      ],
      "metadata": {
        "id": "xBbXXpl7pRF7"
      },
      "execution_count": 1,
      "outputs": []
    },
    {
      "cell_type": "code",
      "source": [
        "(x_train, _), (x_test, _) = cifar10.load_data()\n",
        "\n",
        "# Reduzir o tamanho do conjunto de dados para 5000 exemplos de treinamento e 1000 exemplos de teste\n",
        "x_train = x_train[:5000]\n",
        "x_test = x_test[:1000]\n",
        "\n",
        "# Redimensionar as imagens para 64x64 pixels e normalizar\n",
        "x_train_resized = np.array([resize(image, (64, 64)) for image in x_train])\n",
        "x_test_resized = np.array([resize(image, (64, 64)) for image in x_test])\n",
        "\n",
        "x_train_resized = x_train_resized.astype('float32') / 255.0\n",
        "x_test_resized = x_test_resized.astype('float32') / 255.0\n",
        "\n",
        "# Converter para escala de cinza\n",
        "x_train_resized = np.mean(x_train_resized, axis=-1, keepdims=True)\n",
        "x_test_resized = np.mean(x_test_resized, axis=-1, keepdims=True)\n"
      ],
      "metadata": {
        "id": "f2QsTTLWpWE8"
      },
      "execution_count": 2,
      "outputs": []
    },
    {
      "cell_type": "code",
      "source": [
        "input_img = Input(shape=(64, 64, 1))\n",
        "\n",
        "# Encoder\n",
        "x = Conv2D(16, (3, 3), activation='relu', padding='same')(input_img)\n",
        "x = MaxPooling2D((2, 2), padding='same')(x)\n",
        "encoded = Conv2D(8, (3, 3), activation='relu', padding='same')(x)\n",
        "encoded = MaxPooling2D((2, 2), padding='same')(encoded)\n",
        "\n",
        "# Decoder\n",
        "x = Conv2D(8, (3, 3), activation='relu', padding='same')(encoded)\n",
        "x = UpSampling2D((2, 2))(x)\n",
        "x = Conv2D(16, (3, 3), activation='relu', padding='same')(x)\n",
        "x = UpSampling2D((2, 2))(x)\n",
        "decoded = Conv2D(1, (3, 3), activation='sigmoid', padding='same')(x)\n",
        "\n",
        "autoencoder = Model(input_img, decoded)\n",
        "autoencoder.compile(optimizer='adam', loss='binary_crossentropy')"
      ],
      "metadata": {
        "id": "ZD3aoTbzpepl"
      },
      "execution_count": 3,
      "outputs": []
    },
    {
      "cell_type": "code",
      "source": [
        "autoencoder.fit(x_train_resized, x_train_resized,\n",
        "                epochs=10,\n",
        "                batch_size=128,\n",
        "                shuffle=True,\n",
        "                validation_data=(x_test_resized, x_test_resized))"
      ],
      "metadata": {
        "colab": {
          "base_uri": "https://localhost:8080/"
        },
        "collapsed": true,
        "id": "nOArkFt1pism",
        "outputId": "40861b71-cc82-475e-a007-d081361d06f8"
      },
      "execution_count": 4,
      "outputs": [
        {
          "output_type": "stream",
          "name": "stdout",
          "text": [
            "Epoch 1/10\n",
            "40/40 [==============================] - 34s 818ms/step - loss: 0.4405 - val_loss: 0.0346\n",
            "Epoch 2/10\n",
            "40/40 [==============================] - 32s 800ms/step - loss: 0.0217 - val_loss: 0.0207\n",
            "Epoch 3/10\n",
            "40/40 [==============================] - 32s 806ms/step - loss: 0.0198 - val_loss: 0.0192\n",
            "Epoch 4/10\n",
            "40/40 [==============================] - 31s 774ms/step - loss: 0.0185 - val_loss: 0.0180\n",
            "Epoch 5/10\n",
            "40/40 [==============================] - 31s 772ms/step - loss: 0.0174 - val_loss: 0.0172\n",
            "Epoch 6/10\n",
            "40/40 [==============================] - 30s 762ms/step - loss: 0.0167 - val_loss: 0.0166\n",
            "Epoch 7/10\n",
            "40/40 [==============================] - 32s 790ms/step - loss: 0.0162 - val_loss: 0.0162\n",
            "Epoch 8/10\n",
            "40/40 [==============================] - 31s 771ms/step - loss: 0.0159 - val_loss: 0.0158\n",
            "Epoch 9/10\n",
            "40/40 [==============================] - 31s 764ms/step - loss: 0.0153 - val_loss: 0.0151\n",
            "Epoch 10/10\n",
            "40/40 [==============================] - 32s 797ms/step - loss: 0.0147 - val_loss: 0.0144\n"
          ]
        },
        {
          "output_type": "execute_result",
          "data": {
            "text/plain": [
              "<keras.src.callbacks.History at 0x7932b59aabc0>"
            ]
          },
          "metadata": {},
          "execution_count": 4
        }
      ]
    },
    {
      "cell_type": "code",
      "source": [
        "def calculate_snr(original, reconstructed):\n",
        "    mse = np.mean((original - reconstructed) ** 2)\n",
        "    signal_power = np.mean(original ** 2)\n",
        "    snr = 10 * np.log10(signal_power / mse)\n",
        "    return snr\n",
        "\n",
        "decoded_imgs = autoencoder.predict(x_test_resized)\n",
        "snr = calculate_snr(x_test_resized, decoded_imgs)\n",
        "print(f\"SNR: {snr} dB\")"
      ],
      "metadata": {
        "colab": {
          "base_uri": "https://localhost:8080/"
        },
        "id": "TppaTL57q3BU",
        "outputId": "ef3f9823-b4e5-4f9f-da6d-cd464e9ac417"
      },
      "execution_count": 5,
      "outputs": [
        {
          "output_type": "stream",
          "name": "stdout",
          "text": [
            "32/32 [==============================] - 3s 71ms/step\n",
            "SNR: -7.7416640520095825 dB\n"
          ]
        }
      ]
    },
    {
      "cell_type": "code",
      "source": [],
      "metadata": {
        "id": "_lljd1uK5M1F"
      },
      "execution_count": null,
      "outputs": []
    }
  ]
}